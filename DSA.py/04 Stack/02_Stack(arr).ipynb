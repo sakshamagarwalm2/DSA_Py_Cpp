{
  "nbformat": 4,
  "nbformat_minor": 0,
  "metadata": {
    "colab": {
      "provenance": []
    },
    "kernelspec": {
      "name": "python3",
      "display_name": "Python 3"
    },
    "language_info": {
      "name": "python"
    }
  },
  "cells": [
    {
      "cell_type": "markdown",
      "source": [
        "#Stack implimentation using Array\n",
        "\n"
      ],
      "metadata": {
        "id": "8Sk3YqCgCSjd"
      }
    },
    {
      "cell_type": "code",
      "execution_count": 56,
      "metadata": {
        "id": "RVAXmHZwCCFO"
      },
      "outputs": [],
      "source": [
        "class Stack:\n",
        "  def __init__(self,size):\n",
        "    self.size=size\n",
        "    self.stack = [None] * self.size\n",
        "    self.top= -1\n",
        "\n",
        "  def push(self,value):\n",
        "    if self.top == self.size -1:\n",
        "      print(\"Stack is full\")\n",
        "    else:\n",
        "      self.top+=1\n",
        "      self.stack[self.top]=value\n",
        "\n",
        "  def pop(self):\n",
        "    if self.top == -1:\n",
        "      print(\"Stack is empty\")\n",
        "    else:\n",
        "      data = self.stack[self.top]\n",
        "      self.top-=1\n",
        "      return data\n",
        "\n",
        "  def traverse(self):\n",
        "\n",
        "    for i in range(self.top + 1):\n",
        "      print(self.stack[i],end=' ')"
      ]
    },
    {
      "cell_type": "code",
      "source": [
        "s=Stack(3)"
      ],
      "metadata": {
        "id": "BYiRwXf-CukV"
      },
      "execution_count": 57,
      "outputs": []
    },
    {
      "cell_type": "code",
      "source": [
        "s.stack"
      ],
      "metadata": {
        "colab": {
          "base_uri": "https://localhost:8080/"
        },
        "id": "NgTNA0joCxXt",
        "outputId": "26ed3938-a6bf-4a50-cc68-6b059f34ca54"
      },
      "execution_count": 58,
      "outputs": [
        {
          "output_type": "execute_result",
          "data": {
            "text/plain": [
              "[None, None, None]"
            ]
          },
          "metadata": {},
          "execution_count": 58
        }
      ]
    },
    {
      "cell_type": "code",
      "source": [
        "s.push(4)\n",
        "s.push(5)\n",
        "s.push(6)\n",
        "\n",
        "s.stack"
      ],
      "metadata": {
        "colab": {
          "base_uri": "https://localhost:8080/"
        },
        "id": "PQfcWedjC3xn",
        "outputId": "f9d0c36c-8c25-4ec7-c953-2051d8c68563"
      },
      "execution_count": 59,
      "outputs": [
        {
          "output_type": "execute_result",
          "data": {
            "text/plain": [
              "[4, 5, 6]"
            ]
          },
          "metadata": {},
          "execution_count": 59
        }
      ]
    },
    {
      "cell_type": "code",
      "source": [
        "s.push(7)"
      ],
      "metadata": {
        "colab": {
          "base_uri": "https://localhost:8080/"
        },
        "id": "fZBDhtnrDpDW",
        "outputId": "7771f594-2ace-4dc8-9a03-7db9a03a05d0"
      },
      "execution_count": 60,
      "outputs": [
        {
          "output_type": "stream",
          "name": "stdout",
          "text": [
            "Stack is full\n"
          ]
        }
      ]
    },
    {
      "cell_type": "code",
      "source": [
        "s.pop()"
      ],
      "metadata": {
        "colab": {
          "base_uri": "https://localhost:8080/"
        },
        "id": "Ue7_M1zCD4cZ",
        "outputId": "7cf9d71c-d8eb-4a30-abff-752dd59d6355"
      },
      "execution_count": 61,
      "outputs": [
        {
          "output_type": "execute_result",
          "data": {
            "text/plain": [
              "6"
            ]
          },
          "metadata": {},
          "execution_count": 61
        }
      ]
    },
    {
      "cell_type": "code",
      "source": [
        "s.stack"
      ],
      "metadata": {
        "colab": {
          "base_uri": "https://localhost:8080/"
        },
        "id": "KGVMDKPzELDu",
        "outputId": "f95a0f89-d69c-40a4-d7b8-ba3a9f6b33aa"
      },
      "execution_count": 62,
      "outputs": [
        {
          "output_type": "execute_result",
          "data": {
            "text/plain": [
              "[4, 5, 6]"
            ]
          },
          "metadata": {},
          "execution_count": 62
        }
      ]
    },
    {
      "cell_type": "code",
      "source": [
        "s.traverse()"
      ],
      "metadata": {
        "colab": {
          "base_uri": "https://localhost:8080/"
        },
        "id": "TEJVx80iEPZc",
        "outputId": "75496b25-6f4b-4196-b4d9-0e775027b67a"
      },
      "execution_count": 63,
      "outputs": [
        {
          "output_type": "stream",
          "name": "stdout",
          "text": [
            "4 5 "
          ]
        }
      ]
    }
  ]
}