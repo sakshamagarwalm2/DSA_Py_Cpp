{
  "nbformat": 4,
  "nbformat_minor": 0,
  "metadata": {
    "colab": {
      "provenance": []
    },
    "kernelspec": {
      "name": "python3",
      "display_name": "Python 3"
    },
    "language_info": {
      "name": "python"
    }
  },
  "cells": [
    {
      "cell_type": "markdown",
      "source": [
        "#implimentations of Stack using Linked List (LL)\n",
        "\n",
        "So we use nodes in LL"
      ],
      "metadata": {
        "id": "2xsdbiqftyc7"
      }
    },
    {
      "cell_type": "code",
      "source": [
        "class node:\n",
        "  def __init__(self,value):\n",
        "    self.data=value\n",
        "    self.next=None"
      ],
      "metadata": {
        "id": "4ixHn0dVtxze"
      },
      "execution_count": 7,
      "outputs": []
    },
    {
      "cell_type": "code",
      "execution_count": 54,
      "metadata": {
        "id": "h6mDRyCPWE42"
      },
      "outputs": [],
      "source": [
        "class LL:\n",
        "  def __init__(self):\n",
        "    self.head=None\n",
        "    self.n=0\n",
        "\n",
        "  def size(self):\n",
        "\n",
        "     temp = self.head\n",
        "     counter = 0\n",
        "\n",
        "     while temp is not None:\n",
        "       temp = temp.next\n",
        "       counter+=1\n",
        "\n",
        "     return counter\n",
        "\n",
        "\n",
        "  def empty(self):\n",
        "    return self.head==None\n",
        "\n",
        "  def push(self,value):\n",
        "    newnode = node(value)\n",
        "\n",
        "    newnode.next=self.head\n",
        "    self.head=newnode\n",
        "    self.n+=1\n",
        "\n",
        "  def peak(self):\n",
        "    if self.empty():\n",
        "      return \"empty\"\n",
        "    else:\n",
        "      return self.head.data\n",
        "\n",
        "  def pop(self):\n",
        "    if self.empty():\n",
        "      return \"empty\"\n",
        "    else:\n",
        "      self.head=self.head.next\n",
        "      self.n-=1\n",
        "\n",
        "\n",
        "  def __str__(self):\n",
        "    s=\"\"\n",
        "    curr = self.head\n",
        "    while curr!= None:\n",
        "      s=s+str(curr.data)+\"->\"\n",
        "      curr=curr.next\n",
        "\n",
        "    return s[:-2]"
      ]
    },
    {
      "cell_type": "code",
      "source": [
        "l=LL()\n",
        "l.empty()"
      ],
      "metadata": {
        "colab": {
          "base_uri": "https://localhost:8080/"
        },
        "id": "MsB1EazUvirn",
        "outputId": "7d65e33f-18b2-44c1-ff35-1ea99e789ea9"
      },
      "execution_count": 9,
      "outputs": [
        {
          "output_type": "execute_result",
          "data": {
            "text/plain": [
              "True"
            ]
          },
          "metadata": {},
          "execution_count": 9
        }
      ]
    },
    {
      "cell_type": "code",
      "source": [
        "l.push(10)\n",
        "l.push(20)\n",
        "l.push(30)\n",
        "l.push(40)\n",
        "l.push(50)\n",
        "l.push(10)\n",
        "l.push(900)\n",
        "print(l)"
      ],
      "metadata": {
        "colab": {
          "base_uri": "https://localhost:8080/"
        },
        "id": "0mfP1yysvqSZ",
        "outputId": "7f727d5d-c450-4cbc-e470-2922d1ec559e"
      },
      "execution_count": 10,
      "outputs": [
        {
          "output_type": "stream",
          "name": "stdout",
          "text": [
            "900->10->50->40->30->20->10\n"
          ]
        }
      ]
    },
    {
      "cell_type": "code",
      "source": [
        "print(l.empty())"
      ],
      "metadata": {
        "colab": {
          "base_uri": "https://localhost:8080/"
        },
        "id": "Jy2W9XpPvrXD",
        "outputId": "4ba7b19e-0d85-4721-8528-c57b8f7186c2"
      },
      "execution_count": 11,
      "outputs": [
        {
          "output_type": "stream",
          "name": "stdout",
          "text": [
            "False\n"
          ]
        }
      ]
    },
    {
      "cell_type": "code",
      "source": [
        "print(l.peak())"
      ],
      "metadata": {
        "colab": {
          "base_uri": "https://localhost:8080/"
        },
        "id": "CP0dm4DGyHxG",
        "outputId": "08537f6c-925d-4e8b-caba-8b0feaadffc9"
      },
      "execution_count": 12,
      "outputs": [
        {
          "output_type": "stream",
          "name": "stdout",
          "text": [
            "900\n"
          ]
        }
      ]
    },
    {
      "cell_type": "code",
      "source": [
        "l.pop()\n",
        "print(l)"
      ],
      "metadata": {
        "colab": {
          "base_uri": "https://localhost:8080/"
        },
        "id": "znc5FmwNyREo",
        "outputId": "55356ca8-4c2d-4921-b1f0-3edaa45147cd"
      },
      "execution_count": 13,
      "outputs": [
        {
          "output_type": "stream",
          "name": "stdout",
          "text": [
            "10->50->40->30->20->10\n"
          ]
        }
      ]
    },
    {
      "cell_type": "markdown",
      "source": [
        "#Lets prectice\n",
        "#string reverse using stack\n",
        "\n",
        "eg. \"HELLO\"\n",
        "its time complexcity is O(2n)\n",
        "its space complexcity is S(n)"
      ],
      "metadata": {
        "id": "9ZGbtStWylyj"
      }
    },
    {
      "cell_type": "code",
      "source": [
        "stack=LL()\n",
        "s=\"Hello\"\n",
        "r=\"\"\n",
        "for i in s:\n",
        "  stack.push(i)\n",
        "for i in s:\n",
        "  r+=stack.peak()\n",
        "  stack.pop()\n",
        "\n",
        "print(r)"
      ],
      "metadata": {
        "colab": {
          "base_uri": "https://localhost:8080/"
        },
        "id": "D0KjNgyuyW8y",
        "outputId": "94b39d6f-96c8-44e4-b763-f4f1c9a97fa9"
      },
      "execution_count": 14,
      "outputs": [
        {
          "output_type": "stream",
          "name": "stdout",
          "text": [
            "olleH\n"
          ]
        }
      ]
    },
    {
      "cell_type": "markdown",
      "source": [
        "#Text Editor\n",
        "isme 2 input hai ek str and u and r where r in redo and u is undo"
      ],
      "metadata": {
        "id": "Lzhgw9kw1A2V"
      }
    },
    {
      "cell_type": "code",
      "source": [
        "class TE:\n",
        "  def __init__(self,s,ur):\n",
        "    self.s=\"HELLO\"\n",
        "    self.ur=\"\"\n",
        "    self.stack1 = LL()\n",
        "    self.stack2 = LL()\n",
        "    for i in s:\n",
        "      self.stack1.push(i)\n",
        "    for i in ur:\n",
        "      if i == \"u\":\n",
        "        self.stack2.push(self.stack1.peak())\n",
        "        self.stack1.pop()\n",
        "      elif i == \"r\":\n",
        "        if not self.stack2.empty():\n",
        "          self.stack1.push(self.stack2.peak())\n",
        "          self.stack2.pop()\n",
        "        else:\n",
        "         print(\"nothing to redo\")\n",
        "      else:\n",
        "        print(\"invalid input\")\n",
        "\n",
        "    final=\"\"\n",
        "    while not self.stack1.empty():\n",
        "      final+=self.stack1.peak()\n",
        "      self.stack1.pop()\n",
        "\n",
        "    for i in final:\n",
        "      stack.push(i)\n",
        "\n",
        "    r=\"\"\n",
        "    for i in final:\n",
        "      r+=stack.peak()\n",
        "      stack.pop()\n",
        "\n",
        "    print(r)\n"
      ],
      "metadata": {
        "id": "2xjVUYCByva1"
      },
      "execution_count": 26,
      "outputs": []
    },
    {
      "cell_type": "code",
      "source": [
        "TE(\"Saksham\",\"uurrururuuuur\")"
      ],
      "metadata": {
        "colab": {
          "base_uri": "https://localhost:8080/"
        },
        "id": "WW5SEfiJ3nvf",
        "outputId": "ebbc8c5d-709b-4002-d9b1-6e70d8fd65a3"
      },
      "execution_count": 28,
      "outputs": [
        {
          "output_type": "stream",
          "name": "stdout",
          "text": [
            "Saks\n"
          ]
        },
        {
          "output_type": "execute_result",
          "data": {
            "text/plain": [
              "<__main__.TE at 0x7f343a8d47f0>"
            ]
          },
          "metadata": {},
          "execution_count": 28
        }
      ]
    },
    {
      "cell_type": "markdown",
      "source": [
        "#Stack Braket Problem/ Celebrity problem\n",
        "\n",
        "isme ham metrix pe kam karenge. let nxn matrix hai jaha hame ek single value i return karni hai jo 0 se n ke bich me hai. and find karo ki kis col me sabse jyada 1 aye this is also known as celebrity problem.to hame col no. batana hai jisme max 1 aye.\n",
        "hamesha ek hi celebrity rahega usse jyada nahi.isme use karenge selection elemination."
      ],
      "metadata": {
        "id": "5GSu2XPZ8CWo"
      }
    },
    {
      "cell_type": "code",
      "source": [
        "M= [\n",
        "    [0,0,1,1],\n",
        "    [0,0,1,1],\n",
        "    [0,0,0,0],\n",
        "    [0,1,1,0]\n",
        "]"
      ],
      "metadata": {
        "id": "vGmIL1OP385I"
      },
      "execution_count": 32,
      "outputs": []
    },
    {
      "cell_type": "code",
      "source": [
        "def find_the_celeb(M):\n",
        "  s = LL()\n",
        "  for i in range(len(M)):\n",
        "    s.push(i)\n",
        "\n",
        "  while s.size() >=2:\n",
        "    i=s.pop()\n",
        "    j=s.pop()\n",
        "\n",
        "    if M[i][j]==0:\n",
        "      #j is not a celeb\n",
        "      s.push(i)\n",
        "    else:\n",
        "      #i is not a celeb\n",
        "      s.push(j)\n",
        "\n",
        "  cel = s.pop()\n",
        "\n",
        "  for i in range(len(L)):\n",
        "\n",
        "    if i != cel:\n",
        "\n",
        "      if L[i][cel] != 1 or L[cel][i] != 0:\n",
        "        print(\"No celebrity\")\n",
        "        return\n",
        "  print(\"Celebrity is\",cel)"
      ],
      "metadata": {
        "id": "5fge60YM97KO"
      },
      "execution_count": 57,
      "outputs": []
    },
    {
      "cell_type": "code",
      "source": [
        "find_the_celeb(M)"
      ],
      "metadata": {
        "collapsed": true,
        "id": "Uxut8581-6rn"
      },
      "execution_count": null,
      "outputs": []
    },
    {
      "cell_type": "code",
      "source": [],
      "metadata": {
        "id": "1AQep53C_RFL"
      },
      "execution_count": null,
      "outputs": []
    }
  ]
}