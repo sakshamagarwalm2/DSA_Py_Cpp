{
  "nbformat": 4,
  "nbformat_minor": 0,
  "metadata": {
    "colab": {
      "provenance": []
    },
    "kernelspec": {
      "name": "python3",
      "display_name": "Python 3"
    },
    "language_info": {
      "name": "python"
    }
  },
  "cells": [
    {
      "cell_type": "markdown",
      "source": [
        "#Doubly Linked List"
      ],
      "metadata": {
        "id": "HBJPKHeJbNF_"
      }
    },
    {
      "cell_type": "code",
      "source": [
        "class node:\n",
        "  def __init__(self,data):\n",
        "    self.data=data\n",
        "    self.next=None\n",
        "    self.prev=None"
      ],
      "metadata": {
        "id": "_QZ4lxR7bMLW"
      },
      "execution_count": 2,
      "outputs": []
    },
    {
      "cell_type": "code",
      "execution_count": 36,
      "metadata": {
        "id": "vZpVJ_IdNB3Q"
      },
      "outputs": [],
      "source": [
        "class DLL:\n",
        "  def __init__(self):\n",
        "    self.head=None\n",
        "    self.n=0\n",
        "\n",
        "  def __len__(self):\n",
        "    return self.n\n",
        "\n",
        "  # treverse\n",
        "  def __str__(self):\n",
        "    if self.head==None:\n",
        "      return \"Empty\"\n",
        "    else:\n",
        "      curr=self.head\n",
        "      result=\"\"\n",
        "      while curr!=None:\n",
        "        result+=str(curr.data)+\"<->\"\n",
        "        curr=curr.next\n",
        "      return result[:-3]\n",
        "\n",
        "  #insert from head\n",
        "  def insert_head(self,val):\n",
        "    new_node=node(val)\n",
        "    if self.head==None:\n",
        "      self.head=new_node\n",
        "    else:\n",
        "      new_node.next=self.head\n",
        "      self.head.prev=new_node\n",
        "      self.head=new_node\n",
        "    self.n+=1\n",
        "\n",
        "  #insert from tail\n",
        "  def append(self,val):\n",
        "    new_node=node(val)\n",
        "    if self.head==None:\n",
        "      self.head=new_node\n",
        "    else:\n",
        "      curr=self.head\n",
        "      while curr.next!=None:\n",
        "        curr=curr.next\n",
        "      curr.next=new_node\n",
        "      new_node.prev=curr\n",
        "    self.n+=1\n",
        "\n",
        "  # insert in mid\n",
        "  def insert_mid(self,after,val):\n",
        "    new_node=node(val)\n",
        "    curr=self.head\n",
        "    while curr!=None:\n",
        "      if curr.data==after:\n",
        "        break\n",
        "      curr=curr.next\n",
        "    if curr!=None:\n",
        "      new_node.next=curr.next\n",
        "      new_node.prev=curr\n",
        "      if curr.next!=None:\n",
        "        curr.next.prev=new_node\n",
        "      curr.next=new_node\n",
        "      self.n+=1\n",
        "    else:\n",
        "      return \"Not Found\"\n",
        "\n",
        "  # delete by val\n",
        "  def delete(self,val):\n",
        "    curr=self.head\n",
        "    while curr!=None:\n",
        "      if curr.data==val:\n",
        "        break\n",
        "      curr=curr.next\n",
        "    if curr==None:\n",
        "      return \"Not Found\"\n",
        "    if curr==self.head:\n",
        "      self.head=curr.next\n",
        "    else:\n",
        "      curr.prev.next=curr.next\n",
        "      if curr.next!=None:\n",
        "        curr.next.prev=curr.prev\n",
        "    self.n-=1\n",
        "\n",
        "  #search by val\n",
        "  def search(self,val):\n",
        "    curr=self.head\n",
        "    pos=0\n",
        "    while curr!=None:\n",
        "      if curr.data==val:\n",
        "        return pos\n",
        "      curr=curr.next\n",
        "      pos+=1\n",
        "    return \"Not Found\"\n",
        ""
      ]
    },
    {
      "cell_type": "code",
      "source": [
        "DLL=DLL()"
      ],
      "metadata": {
        "id": "ny7CP5jxeAwt"
      },
      "execution_count": 37,
      "outputs": []
    },
    {
      "cell_type": "code",
      "source": [
        "print(DLL)\n",
        "\n",
        "DLL.insert_head(10)\n",
        "DLL.append(20)\n",
        "DLL.insert_mid(10,30)\n",
        "DLL.insert_mid(20,40)\n",
        "DLL.append(50)\n",
        "\n",
        "\n",
        "print(DLL)\n",
        "print(DLL.search(20))\n",
        "\n",
        "DLL.delete(10)\n",
        "\n",
        "print(DLL)\n",
        "print(DLL.search(50))\n",
        "\n",
        "DLL.delete(50)\n",
        "print(DLL)\n",
        "\n",
        "DLL.delete(20)\n",
        "print(DLL)\n",
        "print(DLL.search(20))\n"
      ],
      "metadata": {
        "colab": {
          "base_uri": "https://localhost:8080/"
        },
        "id": "Qvol-XUdlB8E",
        "outputId": "fc8150ba-4400-4cfd-aedb-174d2c0ee643"
      },
      "execution_count": 39,
      "outputs": [
        {
          "output_type": "stream",
          "name": "stdout",
          "text": [
            "30<->40\n",
            "10<->30<->30<->40<->20<->40<->50\n",
            "4\n",
            "30<->30<->40<->20<->40<->50\n",
            "5\n",
            "30<->30<->40<->20<->40\n",
            "30<->30<->40<->40\n",
            "Not Found\n"
          ]
        }
      ]
    }
  ]
}