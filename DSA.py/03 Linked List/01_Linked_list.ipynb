{
  "nbformat": 4,
  "nbformat_minor": 0,
  "metadata": {
    "colab": {
      "provenance": []
    },
    "kernelspec": {
      "name": "python3",
      "display_name": "Python 3"
    },
    "language_info": {
      "name": "python"
    }
  },
  "cells": [
    {
      "cell_type": "markdown",
      "source": [
        "#Linked list\n"
      ],
      "metadata": {
        "id": "feDBXDW79fZV"
      }
    },
    {
      "cell_type": "markdown",
      "source": [
        "#Creating node and linked list\n"
      ],
      "metadata": {
        "id": "5NwE6f16B3nU"
      }
    },
    {
      "cell_type": "code",
      "execution_count": 160,
      "metadata": {
        "id": "1ti0axmu9M1Z"
      },
      "outputs": [],
      "source": [
        "class node:\n",
        "\n",
        "  def __init__(self,data):\n",
        "    self.data = data\n",
        "    self.next = None"
      ]
    },
    {
      "cell_type": "markdown",
      "source": [
        "#Inserting from head, tail, middel, also deleting and Seaarching"
      ],
      "metadata": {
        "id": "ldJ-LJnLB7my"
      }
    },
    {
      "cell_type": "code",
      "source": [
        "class linklist:\n",
        "\n",
        "  def __init__(self):\n",
        "    #now we crete an empty linklist jab bhi call hoga\n",
        "    self.head = None\n",
        "    self.n=0\n",
        "\n",
        "  def __len__(self):\n",
        "    return self.n\n",
        "\n",
        "  def insert_head(self,value):\n",
        "    # new node\n",
        "    new_node = node(value)\n",
        "\n",
        "    # create connection\n",
        "    new_node.next=self.head\n",
        "\n",
        "    # reassign head\n",
        "    self.head = new_node\n",
        "\n",
        "    # inc n\n",
        "    self.n = self.n + 1\n",
        "\n",
        "\n",
        "  #adding fron tail\n",
        "  def append(self,value):\n",
        "    #new node\n",
        "    new_node = node(value)\n",
        "\n",
        "    curr = self.head\n",
        "\n",
        "    while curr.next!=None:\n",
        "      curr = curr.next\n",
        "\n",
        "    curr.next = new_node\n",
        "\n",
        "    self.n = self.n + 1\n",
        "\n",
        "\n",
        "  #traverse\n",
        "  def __str__(self):\n",
        "    curr= self.head\n",
        "\n",
        "    result = ''\n",
        "\n",
        "    while curr.next!=None:\n",
        "     result = result + str(curr.data) + '->'\n",
        "     curr = curr.next\n",
        "\n",
        "    return result[:-2]\n",
        "\n",
        "  #inserting in middel\n",
        "  def insert(self,after,value):\n",
        "    new_node=node(value)\n",
        "\n",
        "    curr= self.head\n",
        "\n",
        "    while curr!=None:\n",
        "      if curr.data == after:\n",
        "        break\n",
        "      curr=curr.next\n",
        "\n",
        "    if curr!=None:\n",
        "      new_node.next=curr.next\n",
        "      curr.next=new_node\n",
        "      self.n = self.n + 1\n",
        "    else:\n",
        "      print('node not found')\n",
        "\n",
        "  #deletion\n",
        "  #clear\n",
        "  def clear(self):\n",
        "    self.head=None\n",
        "    self.n=0\n",
        "\n",
        "  #delete from head\n",
        "  def delete_head(self):\n",
        "    if self.head==None:\n",
        "      print('list is empty')\n",
        "    else:\n",
        "     self.head = self.head.next\n",
        "     self.n = self.n - 1\n",
        "\n",
        "  #delete from tail (pop)\n",
        "  def pop(self):\n",
        "\n",
        "    curr = self.head\n",
        "\n",
        "    if curr==None:\n",
        "      print('list is empty')\n",
        "\n",
        "    if curr.next==None:\n",
        "      self.delete_head()\n",
        "\n",
        "    else:\n",
        "     while curr.next.next!=None:\n",
        "       curr = curr.next\n",
        "\n",
        "     curr.next= None\n",
        "     self.n = self.n - 1\n",
        "\n",
        "  #deleting by value\n",
        "  def delete(self,value):\n",
        "\n",
        "    if self.head==None:\n",
        "      print('list is empty')\n",
        "\n",
        "    if self.head.data==value:\n",
        "      self.delete_head()\n",
        "      return\n",
        "\n",
        "    curr = self.head\n",
        "\n",
        "    while curr.next!=None:\n",
        "      if curr.next.data == value:\n",
        "        break\n",
        "      curr = curr.next\n",
        "\n",
        "    if curr.next==None:\n",
        "      print('node not found')\n",
        "\n",
        "    if curr.next!=None:\n",
        "      curr.next = curr.next.next\n",
        "      self.n = self.n - 1\n",
        "\n",
        "  #searching\n",
        "  #search by value\n",
        "  def search(self,item):\n",
        "    curr=self.head\n",
        "\n",
        "    pos=0\n",
        "\n",
        "    while curr!=None:\n",
        "      if curr.data==item:\n",
        "        return pos\n",
        "      curr=curr.next\n",
        "      pos=pos+1\n",
        "\n",
        "    return 'not found'\n",
        "\n",
        "  #search by index\n",
        "  def __getitem__(self,index):\n",
        "\n",
        "    curr=self.head\n",
        "\n",
        "    pos = 0\n",
        "\n",
        "    while curr!=None:\n",
        "      if pos==index:\n",
        "        return curr.data\n",
        "      curr=curr.next\n",
        "      pos=pos+1\n",
        "\n",
        "    return 'not found'"
      ],
      "metadata": {
        "id": "jbsSKm-c-AE9"
      },
      "execution_count": 183,
      "outputs": []
    },
    {
      "cell_type": "code",
      "source": [
        "L = linklist()\n",
        "L.insert_head(10)\n",
        "L.insert_head(20)\n",
        "L.insert_head(30)\n",
        "L.insert_head(22)"
      ],
      "metadata": {
        "id": "SkObKxMO-e4N"
      },
      "execution_count": 184,
      "outputs": []
    },
    {
      "cell_type": "code",
      "source": [
        "len(L)"
      ],
      "metadata": {
        "colab": {
          "base_uri": "https://localhost:8080/"
        },
        "id": "2z8jKWY2BOLs",
        "outputId": "cff7f194-db44-4373-d36a-3223ab0dcd5e"
      },
      "execution_count": 185,
      "outputs": [
        {
          "output_type": "execute_result",
          "data": {
            "text/plain": [
              "4"
            ]
          },
          "metadata": {},
          "execution_count": 185
        }
      ]
    },
    {
      "cell_type": "code",
      "source": [
        "L.append(5)\n",
        "L.append(10)\n",
        "L.append(15)"
      ],
      "metadata": {
        "id": "a28H4q9XHa84"
      },
      "execution_count": 186,
      "outputs": []
    },
    {
      "cell_type": "code",
      "source": [
        "len(L)"
      ],
      "metadata": {
        "colab": {
          "base_uri": "https://localhost:8080/"
        },
        "id": "8N4Zf3hPHfe5",
        "outputId": "eeff0271-c3a0-452a-a4bf-ad37274d37d3"
      },
      "execution_count": 187,
      "outputs": [
        {
          "output_type": "execute_result",
          "data": {
            "text/plain": [
              "7"
            ]
          },
          "metadata": {},
          "execution_count": 187
        }
      ]
    },
    {
      "cell_type": "markdown",
      "source": [
        "#Traverse\n",
        "\n"
      ],
      "metadata": {
        "id": "Uf77hzXcCBjZ"
      }
    },
    {
      "cell_type": "code",
      "source": [
        "print(L)"
      ],
      "metadata": {
        "colab": {
          "base_uri": "https://localhost:8080/"
        },
        "id": "IkT5QfeeDkJ6",
        "outputId": "5020bccc-d51b-40bc-cec1-e69ffa12958f"
      },
      "execution_count": 188,
      "outputs": [
        {
          "output_type": "stream",
          "name": "stdout",
          "text": [
            "22->30->20->10->5->10\n"
          ]
        }
      ]
    },
    {
      "cell_type": "markdown",
      "source": [
        "we got this output because we are adding nodes from head"
      ],
      "metadata": {
        "id": "aVx9hEolFK60"
      }
    },
    {
      "cell_type": "code",
      "source": [
        "L.insert(20,200)"
      ],
      "metadata": {
        "id": "s_CJnHz_Dyd8"
      },
      "execution_count": 189,
      "outputs": []
    },
    {
      "cell_type": "code",
      "source": [
        "print(L)"
      ],
      "metadata": {
        "colab": {
          "base_uri": "https://localhost:8080/"
        },
        "id": "iQwoTt62MCu4",
        "outputId": "37349f6d-61fc-4fbf-876a-97d3e0751a2d"
      },
      "execution_count": 190,
      "outputs": [
        {
          "output_type": "stream",
          "name": "stdout",
          "text": [
            "22->30->20->200->10->5->10\n"
          ]
        }
      ]
    },
    {
      "cell_type": "code",
      "source": [
        "L.delete_head()\n",
        "L.pop()\n",
        "print(L)"
      ],
      "metadata": {
        "colab": {
          "base_uri": "https://localhost:8080/"
        },
        "id": "BqFIWdUFMHEP",
        "outputId": "5492be39-35a8-4b6b-c723-2c204b44ce92"
      },
      "execution_count": 191,
      "outputs": [
        {
          "output_type": "stream",
          "name": "stdout",
          "text": [
            "30->20->200->10->5\n"
          ]
        }
      ]
    },
    {
      "cell_type": "code",
      "source": [
        "L.delete(10)\n",
        "print(L)"
      ],
      "metadata": {
        "colab": {
          "base_uri": "https://localhost:8080/"
        },
        "id": "F1gxP7wMP7D9",
        "outputId": "3b6fc033-c2bc-42fe-8b96-945092a14ce5"
      },
      "execution_count": 192,
      "outputs": [
        {
          "output_type": "stream",
          "name": "stdout",
          "text": [
            "30->20->200->5\n"
          ]
        }
      ]
    },
    {
      "cell_type": "code",
      "source": [
        "L.search(200)"
      ],
      "metadata": {
        "colab": {
          "base_uri": "https://localhost:8080/"
        },
        "id": "LVMr3SQvTufU",
        "outputId": "b85679f3-c6b3-4900-97d8-f7f444114113"
      },
      "execution_count": 193,
      "outputs": [
        {
          "output_type": "execute_result",
          "data": {
            "text/plain": [
              "2"
            ]
          },
          "metadata": {},
          "execution_count": 193
        }
      ]
    },
    {
      "cell_type": "code",
      "source": [
        "L[3]"
      ],
      "metadata": {
        "colab": {
          "base_uri": "https://localhost:8080/"
        },
        "id": "7gfbHnYXTx5T",
        "outputId": "8eb5823d-ae72-4326-84be-f8c0989fd56e"
      },
      "execution_count": 194,
      "outputs": [
        {
          "output_type": "execute_result",
          "data": {
            "text/plain": [
              "5"
            ]
          },
          "metadata": {},
          "execution_count": 194
        }
      ]
    }
  ]
}