{
  "nbformat": 4,
  "nbformat_minor": 0,
  "metadata": {
    "colab": {
      "provenance": []
    },
    "kernelspec": {
      "name": "python3",
      "display_name": "Python 3"
    },
    "language_info": {
      "name": "python"
    }
  },
  "cells": [
    {
      "cell_type": "markdown",
      "source": [
        "#Circular Linked List"
      ],
      "metadata": {
        "id": "jBEUJyr0pyiU"
      }
    },
    {
      "cell_type": "code",
      "execution_count": null,
      "metadata": {
        "id": "7uzYtrftpxx4"
      },
      "outputs": [],
      "source": [
        "class node:\n",
        "  def __init__(self,data):\n",
        "    self.data=data\n",
        "    self.next=None"
      ]
    },
    {
      "cell_type": "code",
      "source": [
        "class CLL:\n",
        "  def __init__(self):\n",
        "    self.head=None\n",
        "\n",
        "  # singly circular linked list\n",
        "  # insert from value\n",
        "  def insert(self,data):\n",
        "    if self.head is None:\n",
        "      self.head=node(data)\n",
        "      self.head.next=self.head\n",
        "    else:\n",
        "      new_node=node(data)\n",
        "      temp=self.head\n",
        "      while temp.next!=self.head:\n",
        "        temp=temp.next\n",
        "      temp.next=new_node\n",
        "      new_node.next=self.head\n",
        "\n",
        "  # trevers\n",
        "  def traverse(self):\n",
        "    temp=self.head\n",
        "    result=''\n",
        "    while temp.next!=self.head:\n",
        "      result+=str(temp.data)+'->'\n",
        "      temp=temp.next\n",
        "    result+=str(temp.data)+'->'+\"head\"\n",
        "    print(result)\n",
        "\n",
        "  # deletion by value\n",
        "  def delete(self,val):\n",
        "    temp=self.head\n",
        "    while temp.next!=self.head:\n",
        "      if temp.data==val:\n",
        "        if temp==self.head:\n",
        "          temp=temp.next\n",
        "          prev=self.head\n",
        "          while prev.next!=self.head:\n",
        "            prev=prev.next\n",
        "          prev.next=temp.next\n",
        "          self.head=temp.next\n",
        "          temp.next=None\n",
        "          break\n",
        "        else:\n",
        "          prev = temp.next\n",
        "          temp.next = temp.next.next\n",
        "          prev.next = None\n",
        "          break\n",
        "      temp=temp.next\n"
      ],
      "metadata": {
        "id": "XdIxakZLqfIS"
      },
      "execution_count": 25,
      "outputs": []
    },
    {
      "cell_type": "code",
      "source": [
        "CLL=CLL()\n",
        "CLL.insert(1)\n",
        "CLL.insert(2)\n",
        "CLL.insert(3)\n",
        "CLL.insert(4)\n",
        "CLL.insert(5)\n",
        "CLL.traverse()\n",
        "\n",
        "CLL.delete(4)\n",
        "CLL.traverse()\n",
        "CLL.delete(1)\n",
        "CLL.traverse()\n",
        "CLL.delete(5)\n",
        "CLL.traverse()"
      ],
      "metadata": {
        "colab": {
          "base_uri": "https://localhost:8080/"
        },
        "id": "nxA2fF-fviYz",
        "outputId": "a459de3e-d052-4348-ba2b-645beb15fcb0"
      },
      "execution_count": 26,
      "outputs": [
        {
          "output_type": "stream",
          "name": "stdout",
          "text": [
            "1->2->3->4->5->head\n",
            "1->2->3->4->head\n",
            "3->4->head\n",
            "3->4->head\n"
          ]
        }
      ]
    }
  ]
}