{
  "nbformat": 4,
  "nbformat_minor": 0,
  "metadata": {
    "colab": {
      "provenance": []
    },
    "kernelspec": {
      "name": "python3",
      "display_name": "Python 3"
    },
    "language_info": {
      "name": "python"
    }
  },
  "cells": [
    {
      "cell_type": "markdown",
      "source": [
        "#Queue using LL"
      ],
      "metadata": {
        "id": "zHEXquF5IFot"
      }
    },
    {
      "cell_type": "code",
      "execution_count": 26,
      "metadata": {
        "id": "D_DBMESUFsFw"
      },
      "outputs": [],
      "source": [
        "class node:\n",
        "  def __init__(self,value):\n",
        "    self.value=value\n",
        "    self.next=None\n",
        "\n",
        "\n",
        "class queue:\n",
        "  def __init__(self):\n",
        "    self.front=None\n",
        "    self.rear=None\n",
        "\n",
        "  def enqueue(self,value):\n",
        "\n",
        "    newnode = node(value)\n",
        "\n",
        "    if self.front==None:\n",
        "      self.front=newnode\n",
        "      self.rear=newnode\n",
        "    else:\n",
        "      self.rear.next=newnode\n",
        "      self.rear=newnode\n",
        "\n",
        "  def dequeue(self):\n",
        "    if self.front==None:\n",
        "      print(\"Queue is empty\")\n",
        "    else:\n",
        "      temp=self.front\n",
        "      self.front=self.front.next\n",
        "      return temp.value\n",
        "\n",
        "  def treverse(self):\n",
        "    temp=self.front\n",
        "    while temp!=None:\n",
        "      print(temp.value,end=\" \")\n",
        "      temp=temp.next\n",
        "\n",
        "  def empty(self):\n",
        "    if self.front==None:\n",
        "      return True\n",
        "    else:\n",
        "      return False\n",
        "\n",
        "  def size(self):\n",
        "    count=0\n",
        "    temp=self.front\n",
        "    while temp!=None:\n",
        "      count+=1\n",
        "      temp=temp.next\n",
        "    return count\n",
        "\n",
        "  def peek(self):\n",
        "    if self.front==None:\n",
        "      print(\"Queue is empty\")\n",
        "    else:\n",
        "      return self.front.value\n",
        "\n",
        "  def peek_rear(self):\n",
        "    if self.rear==None:\n",
        "      print(\"Queue is empty\")\n",
        "    else:\n",
        "      return self.rear.value"
      ]
    },
    {
      "cell_type": "code",
      "source": [
        "q=queue()"
      ],
      "metadata": {
        "id": "Dw9UJw6iMFen"
      },
      "execution_count": 27,
      "outputs": []
    },
    {
      "cell_type": "code",
      "source": [
        "q.enqueue(10)\n",
        "q.enqueue(20)\n",
        "q.enqueue(30)\n",
        "q.enqueue(40)"
      ],
      "metadata": {
        "id": "KK-SiDviMG1s"
      },
      "execution_count": 28,
      "outputs": []
    },
    {
      "cell_type": "code",
      "source": [
        "q.treverse()"
      ],
      "metadata": {
        "colab": {
          "base_uri": "https://localhost:8080/"
        },
        "id": "_5__AKnPMMiI",
        "outputId": "64bec098-6dcf-4b9c-e993-cc5381f560d7"
      },
      "execution_count": 29,
      "outputs": [
        {
          "output_type": "stream",
          "name": "stdout",
          "text": [
            "10 20 30 40 "
          ]
        }
      ]
    },
    {
      "cell_type": "code",
      "source": [
        "q.dequeue()"
      ],
      "metadata": {
        "colab": {
          "base_uri": "https://localhost:8080/"
        },
        "id": "tYxOfj8iMOpW",
        "outputId": "b08bef69-2606-475b-eac2-a1052015b48c"
      },
      "execution_count": 30,
      "outputs": [
        {
          "output_type": "execute_result",
          "data": {
            "text/plain": [
              "10"
            ]
          },
          "metadata": {},
          "execution_count": 30
        }
      ]
    },
    {
      "cell_type": "code",
      "source": [
        "q.treverse()"
      ],
      "metadata": {
        "colab": {
          "base_uri": "https://localhost:8080/"
        },
        "id": "a29QA2shMV9Y",
        "outputId": "313189b3-61ca-40ea-e8bf-443ce65a79be"
      },
      "execution_count": 31,
      "outputs": [
        {
          "output_type": "stream",
          "name": "stdout",
          "text": [
            "20 30 40 "
          ]
        }
      ]
    },
    {
      "cell_type": "code",
      "source": [
        "q.peek()"
      ],
      "metadata": {
        "colab": {
          "base_uri": "https://localhost:8080/"
        },
        "id": "NJ1soEwiMdPj",
        "outputId": "f5d748f0-c7cc-465b-b982-4411a56b71e8"
      },
      "execution_count": 32,
      "outputs": [
        {
          "output_type": "execute_result",
          "data": {
            "text/plain": [
              "20"
            ]
          },
          "metadata": {},
          "execution_count": 32
        }
      ]
    },
    {
      "cell_type": "code",
      "source": [
        "q.peek_rear()"
      ],
      "metadata": {
        "colab": {
          "base_uri": "https://localhost:8080/"
        },
        "id": "cXZNy3tvM9CJ",
        "outputId": "89d6d5d7-aeba-41f8-aa60-e953ac18784b"
      },
      "execution_count": 33,
      "outputs": [
        {
          "output_type": "execute_result",
          "data": {
            "text/plain": [
              "40"
            ]
          },
          "metadata": {},
          "execution_count": 33
        }
      ]
    }
  ]
}