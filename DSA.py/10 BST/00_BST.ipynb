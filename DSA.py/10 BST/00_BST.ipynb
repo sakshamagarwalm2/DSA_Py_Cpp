{
  "nbformat": 4,
  "nbformat_minor": 0,
  "metadata": {
    "colab": {
      "provenance": []
    },
    "kernelspec": {
      "name": "python3",
      "display_name": "Python 3"
    },
    "language_info": {
      "name": "python"
    }
  },
  "cells": [
    {
      "cell_type": "code",
      "execution_count": 1,
      "metadata": {
        "id": "QB34Czed5OC9"
      },
      "outputs": [],
      "source": [
        "# insert operation in binary search tree\n",
        "class Node:\n",
        "    def __init__(self, key):\n",
        "        self.left = None\n",
        "        self.right = None\n",
        "        self.val = key\n"
      ]
    },
    {
      "cell_type": "code",
      "source": [
        "\n",
        "\n",
        "# A utility function to insert\n",
        "# a new node with the given key\n",
        "def insert(root, key):\n",
        "    if root is None:\n",
        "        return Node(key)\n",
        "    if root.val == key:\n",
        "            return root\n",
        "    if root.val < key:\n",
        "            root.right = insert(root.right, key)\n",
        "    else:\n",
        "            root.left = insert(root.left, key)\n",
        "    return root\n",
        "\n"
      ],
      "metadata": {
        "id": "hEHtAcon5cxA"
      },
      "execution_count": 2,
      "outputs": []
    },
    {
      "cell_type": "code",
      "source": [
        "# A utility function to do inorder tree traversal\n",
        "def inorder(root):\n",
        "    if root:\n",
        "        inorder(root.left)\n",
        "        print(root.val, end=\" \")\n",
        "        inorder(root.right)\n",
        "\n"
      ],
      "metadata": {
        "id": "2BhBWOuw5l9f"
      },
      "execution_count": 3,
      "outputs": []
    },
    {
      "cell_type": "code",
      "source": [
        "\n",
        "# Creating the following BST\n",
        "#      50\n",
        "#     /  \\\n",
        "#    30   70\n",
        "#   / \\   / \\\n",
        "#  20 40 60 80\n",
        "r = Node(50)\n",
        "r = insert(r, 30)\n",
        "r = insert(r, 20)\n",
        "r = insert(r, 40)\n",
        "r = insert(r, 70)\n",
        "r = insert(r, 60)\n",
        "r = insert(r, 80)\n",
        "\n",
        "# Print inorder traversal of the BST\n",
        "inorder(r)\n"
      ],
      "metadata": {
        "colab": {
          "base_uri": "https://localhost:8080/"
        },
        "id": "f2-OXV9G5qDw",
        "outputId": "847fb874-fa82-4592-cab0-204e6b0a59cc"
      },
      "execution_count": 4,
      "outputs": [
        {
          "output_type": "stream",
          "name": "stdout",
          "text": [
            "20 30 40 50 60 70 80 "
          ]
        }
      ]
    },
    {
      "cell_type": "code",
      "source": [
        "# function to search a key in a BST\n",
        "def search(root, key):\n",
        "\n",
        "    # Base Cases: root is null or key\n",
        "    # is present at root\n",
        "    if root is None or root.val == key:\n",
        "        return root\n",
        "\n",
        "    # Key is greater than root's key\n",
        "    if root.val < key:\n",
        "        return search(root.right, key)\n",
        "\n",
        "    # Key is smaller than root's key\n",
        "    return search(root.left, key)"
      ],
      "metadata": {
        "id": "FwwjhvlX5sFm"
      },
      "execution_count": 8,
      "outputs": []
    },
    {
      "cell_type": "code",
      "source": [
        "# Searching for keys in the BST\n",
        "print(\"Found\" if search(r, 19) else \"Not Found\")\n",
        "print(\"Found\" if search(r, 80) else \"Not Found\")"
      ],
      "metadata": {
        "colab": {
          "base_uri": "https://localhost:8080/"
        },
        "id": "SMgr1Oe18sqk",
        "outputId": "284211ba-96cc-4a23-f239-30ce090b9eb9"
      },
      "execution_count": 9,
      "outputs": [
        {
          "output_type": "stream",
          "name": "stdout",
          "text": [
            "Not Found\n",
            "Found\n"
          ]
        }
      ]
    },
    {
      "cell_type": "code",
      "source": [
        "# Note that it is not a generic inorder successor\n",
        "# function. It mainly works when the right child\n",
        "# is not empty, which is  the case we need in BST\n",
        "# delete.\n",
        "def get_successor(curr):\n",
        "    curr = curr.right\n",
        "    while curr is not None and curr.left is not None:\n",
        "        curr = curr.left\n",
        "    return curr\n",
        "\n",
        "# This function deletes a given key x from the\n",
        "# given BST and returns the modified root of the\n",
        "# BST (if it is modified).\n",
        "def del_node(root, x):\n",
        "\n",
        "    # Base case\n",
        "    if root is None:\n",
        "        return root\n",
        "\n",
        "    # If key to be searched is in a subtree\n",
        "    if root.val > x:\n",
        "        root.left = del_node(root.left, x)\n",
        "    elif root.val < x:\n",
        "        root.right = del_node(root.right, x)\n",
        "\n",
        "    else:\n",
        "        # If root matches with the given key\n",
        "\n",
        "        # Cases when root has 0 children or\n",
        "        # only right child\n",
        "        if root.left is None:\n",
        "            return root.right\n",
        "\n",
        "        # When root has only left child\n",
        "        if root.right is None:\n",
        "            return root.left\n",
        "\n",
        "        # When both children are present\n",
        "        succ = get_successor(root)\n",
        "        root.val = succ.val\n",
        "        root.right = del_node(root.right, succ.val)\n",
        "\n",
        "    return root\n"
      ],
      "metadata": {
        "id": "W0iChdkT8w0G"
      },
      "execution_count": 11,
      "outputs": []
    },
    {
      "cell_type": "code",
      "source": [
        "root = del_node(r, 70)\n",
        "inorder(r)"
      ],
      "metadata": {
        "colab": {
          "base_uri": "https://localhost:8080/"
        },
        "id": "1KSMrjcCAoXL",
        "outputId": "5fbdfeab-d69a-40f3-ff92-fd6807405768"
      },
      "execution_count": 12,
      "outputs": [
        {
          "output_type": "stream",
          "name": "stdout",
          "text": [
            "20 30 40 50 60 80 "
          ]
        }
      ]
    },
    {
      "cell_type": "code",
      "source": [],
      "metadata": {
        "id": "Unf8voVSBsdE"
      },
      "execution_count": null,
      "outputs": []
    }
  ]
}