{
  "nbformat": 4,
  "nbformat_minor": 0,
  "metadata": {
    "colab": {
      "provenance": []
    },
    "kernelspec": {
      "name": "python3",
      "display_name": "Python 3"
    },
    "language_info": {
      "name": "python"
    }
  },
  "cells": [
    {
      "cell_type": "markdown",
      "source": [
        "#Depth First Traversal (or DFS)\n",
        " For a graph is similar to Depth First Traversal of a tree. Like trees, we traverse all adjacent vertices one by one. When we traverse an adjacent vertex, we completely finish the traversal of all vertices reachable through that adjacent vertex. After we finish traversing one adjacent vertex and its reachable vertices, we move to the next adjacent vertex and repeat the process. This is similar to a tree, where we first completely traverse the left subtree and then move to the right subtree. The key difference is that, unlike trees, graphs may contain cycles (a node may be visited more than once). To avoid processing a node multiple times, we use a boolean visited array.\n",
        "\n",
        ""
      ],
      "metadata": {
        "id": "RhDhMjWqCC6o"
      }
    },
    {
      "cell_type": "code",
      "source": [
        "def dfs_rec(adj, visited, s):\n",
        "    # Mark the current vertex as visited\n",
        "    visited[s] = True\n",
        "\n",
        "    # Print the current vertex\n",
        "    print(s, end=\" \")\n",
        "\n",
        "    # Recursively visit all adjacent vertices\n",
        "    # that are not visited yet\n",
        "    for i in adj[s]:\n",
        "        if not visited[i]:\n",
        "            dfs_rec(adj, visited, i)\n"
      ],
      "metadata": {
        "id": "TYeIwNELDIlT"
      },
      "execution_count": 7,
      "outputs": []
    },
    {
      "cell_type": "code",
      "execution_count": 8,
      "metadata": {
        "id": "YqcVLnVU-IDm"
      },
      "outputs": [],
      "source": [
        "def dfs(adj, s):\n",
        "    visited = [False] * len(adj)\n",
        "    # Call the recursive DFS function\n",
        "    dfs_rec(adj, visited, s)\n"
      ]
    },
    {
      "cell_type": "code",
      "source": [
        "def add_edge(adj, s, t):\n",
        "    # Add edge from vertex s to t\n",
        "    adj[s].append(t)\n",
        "    # Due to undirected Graph\n",
        "    adj[t].append(s)\n",
        "\n",
        "if __name__ == \"__main__\":\n",
        "    V = 5\n",
        "\n",
        "    # Create an adjacency list for the graph\n",
        "    adj = [[] for _ in range(V)]\n",
        "\n",
        "    # Define the edges of the graph\n",
        "    edges = [[1, 2], [1, 0], [2, 0], [2, 3], [2, 4]]\n",
        "\n",
        "    # Populate the adjacency list with edges\n",
        "    for e in edges:\n",
        "        add_edge(adj, e[0], e[1])\n",
        "\n",
        "    source = 1\n",
        "    print(\"DFS from source:\", source)\n",
        "    dfs(adj, source)"
      ],
      "metadata": {
        "colab": {
          "base_uri": "https://localhost:8080/"
        },
        "id": "OyCPq0jGCBUV",
        "outputId": "32e96dfc-821c-4f1f-8deb-322c1cbbc70f"
      },
      "execution_count": 9,
      "outputs": [
        {
          "output_type": "stream",
          "name": "stdout",
          "text": [
            "DFS from source: 1\n",
            "1 2 0 3 4 "
          ]
        }
      ]
    },
    {
      "cell_type": "code",
      "source": [
        "aadj = [[] for _ in range(V)]\n",
        "\n",
        "# Add edges to the graph\n",
        "add_edge(aadj, 0, 1)\n",
        "add_edge(aadj, 0, 2)\n",
        "add_edge(aadj, 1, 3)\n",
        "add_edge(aadj, 1, 4)\n",
        "add_edge(aadj, 2, 4)\n",
        "\n",
        "dfs(aadj, 0)"
      ],
      "metadata": {
        "colab": {
          "base_uri": "https://localhost:8080/"
        },
        "id": "MttcyOBCEFNY",
        "outputId": "c848a627-ab78-469a-d958-a2dc4b642997"
      },
      "execution_count": 11,
      "outputs": [
        {
          "output_type": "stream",
          "name": "stdout",
          "text": [
            "0 1 3 4 2 "
          ]
        }
      ]
    }
  ]
}