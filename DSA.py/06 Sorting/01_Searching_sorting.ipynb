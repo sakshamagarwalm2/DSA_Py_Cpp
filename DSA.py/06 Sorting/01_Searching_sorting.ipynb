{
  "nbformat": 4,
  "nbformat_minor": 0,
  "metadata": {
    "colab": {
      "provenance": []
    },
    "kernelspec": {
      "name": "python3",
      "display_name": "Python 3"
    },
    "language_info": {
      "name": "python"
    }
  },
  "cells": [
    {
      "cell_type": "markdown",
      "source": [
        "#searching-sorting\n",
        "1. Linear Searching\n",
        "2. Binary\n",
        "\n",
        "3. Sleep Sort\n",
        "4. Monkey Sort\n",
        "5. Bubble Sort\n",
        "6. Selection"
      ],
      "metadata": {
        "id": "V7CGYKv9fOrK"
      }
    },
    {
      "cell_type": "code",
      "execution_count": 1,
      "metadata": {
        "id": "G_quNV6WfKfK"
      },
      "outputs": [],
      "source": [
        "# Linear Search\n",
        "\n",
        "# Brute Force\n",
        "\n",
        "def linear_search(arr,item):\n",
        "\n",
        "  for i in range(len(arr)):\n",
        "\n",
        "    if arr[i] == item:\n",
        "      return i\n",
        "\n",
        "  return -1"
      ]
    },
    {
      "cell_type": "code",
      "source": [
        "arr = [12,34,56,1,67,100,47,99]\n",
        "\n",
        "linear_search(arr,121)\n",
        ""
      ],
      "metadata": {
        "colab": {
          "base_uri": "https://localhost:8080/"
        },
        "id": "JmX9FOpCfXvc",
        "outputId": "f4f50050-db8b-4b91-affd-7e241fdf357f"
      },
      "execution_count": 2,
      "outputs": [
        {
          "output_type": "execute_result",
          "data": {
            "text/plain": [
              "-1"
            ]
          },
          "metadata": {},
          "execution_count": 2
        }
      ]
    },
    {
      "cell_type": "code",
      "source": [
        "# Time Complexity is O(N)\n",
        "# No sorting required"
      ],
      "metadata": {
        "id": "xRFQHTAefbXN"
      },
      "execution_count": 3,
      "outputs": []
    },
    {
      "cell_type": "code",
      "source": [
        "# Binary Search\n",
        "\n",
        "# Sorted Array\n",
        "\n",
        "def binary_search(arr, low, high, item):\n",
        "\n",
        "  #print(\"low = \",low,\"high = \",high,end=' ')\n",
        "\n",
        "  if low <= high:\n",
        "    # search\n",
        "\n",
        "    mid = (low + high)//2\n",
        "\n",
        "    #print(\"mid value is\",arr[mid])\n",
        "\n",
        "    if arr[mid] == item:\n",
        "      return mid\n",
        "    elif arr[mid] > item:\n",
        "      return binary_search(arr, low, mid-1,item)\n",
        "    else:\n",
        "      return binary_search(arr,mid+1,high,item)\n",
        "  else:\n",
        "    return -1"
      ],
      "metadata": {
        "id": "wY3q-hVXfe9m"
      },
      "execution_count": 4,
      "outputs": []
    },
    {
      "cell_type": "code",
      "source": [
        "arr = [12,24,35,46,57,68,80,99,100]\n",
        "print(binary_search(arr,0,len(arr)-1,-5))"
      ],
      "metadata": {
        "colab": {
          "base_uri": "https://localhost:8080/"
        },
        "id": "5EBKrnaIfi3d",
        "outputId": "84896a74-a766-4816-8314-ad8f54f1a3da"
      },
      "execution_count": 5,
      "outputs": [
        {
          "output_type": "stream",
          "name": "stdout",
          "text": [
            "-1\n"
          ]
        }
      ]
    },
    {
      "cell_type": "code",
      "source": [
        "# Sorting\n",
        "\n",
        "def is_sorted(arr):\n",
        "\n",
        "  sorted = True\n",
        "\n",
        "  for i in range(len(arr) - 1):\n",
        "    if arr[i]>arr[i+1]:\n",
        "      sorted = False\n",
        "\n",
        "  return sorted"
      ],
      "metadata": {
        "id": "F6_nlfVzfmK2"
      },
      "execution_count": 6,
      "outputs": []
    },
    {
      "cell_type": "code",
      "source": [
        "arr = [1,2,3,4,8,6]\n",
        "is_sorted(arr)"
      ],
      "metadata": {
        "colab": {
          "base_uri": "https://localhost:8080/"
        },
        "id": "Qx2nzdSDfpUo",
        "outputId": "d512e155-36d9-4a32-92fb-a780d96052ba"
      },
      "execution_count": 7,
      "outputs": [
        {
          "output_type": "execute_result",
          "data": {
            "text/plain": [
              "False"
            ]
          },
          "metadata": {},
          "execution_count": 7
        }
      ]
    },
    {
      "cell_type": "code",
      "source": [
        "# Monkey sort\n",
        "\n",
        "import random\n",
        "a=[1,2,3,4]\n",
        "random.shuffle(a)\n",
        "a"
      ],
      "metadata": {
        "colab": {
          "base_uri": "https://localhost:8080/"
        },
        "id": "NalfQyZqfsEp",
        "outputId": "42df497d-ad6d-41f3-ccc1-fb45992933ee"
      },
      "execution_count": 8,
      "outputs": [
        {
          "output_type": "execute_result",
          "data": {
            "text/plain": [
              "[2, 3, 1, 4]"
            ]
          },
          "metadata": {},
          "execution_count": 8
        }
      ]
    },
    {
      "cell_type": "code",
      "source": [
        "import time\n",
        "def monkey_sort(arr):\n",
        "\n",
        "  while not is_sorted(arr):\n",
        "    # time.sleep(1)\n",
        "    random.shuffle(arr)\n",
        "    print(arr)\n",
        "  print(arr)\n",
        ""
      ],
      "metadata": {
        "id": "tl_X0KkUfvLY"
      },
      "execution_count": 11,
      "outputs": []
    },
    {
      "cell_type": "code",
      "source": [
        "a = [12,24,11,56,34,20]\n",
        "monkey_sort(a)"
      ],
      "metadata": {
        "colab": {
          "base_uri": "https://localhost:8080/"
        },
        "id": "XUuveJMIfyqB",
        "outputId": "e9dd3314-b29b-4df4-bbc7-8e8c99e172ee"
      },
      "execution_count": 12,
      "outputs": [
        {
          "output_type": "stream",
          "name": "stdout",
          "text": [
            "[34, 11, 20, 12, 56, 24]\n",
            "[56, 24, 20, 12, 11, 34]\n",
            "[20, 34, 12, 24, 11, 56]\n",
            "[24, 34, 20, 12, 56, 11]\n",
            "[20, 12, 56, 11, 24, 34]\n",
            "[34, 12, 56, 20, 11, 24]\n",
            "[20, 11, 24, 56, 34, 12]\n",
            "[12, 56, 20, 24, 34, 11]\n",
            "[34, 20, 12, 56, 24, 11]\n",
            "[11, 34, 56, 24, 20, 12]\n",
            "[56, 34, 20, 12, 11, 24]\n",
            "[24, 12, 11, 34, 56, 20]\n",
            "[24, 56, 34, 12, 11, 20]\n",
            "[24, 11, 56, 34, 12, 20]\n",
            "[34, 24, 56, 12, 20, 11]\n",
            "[24, 56, 12, 20, 34, 11]\n",
            "[34, 12, 24, 11, 20, 56]\n",
            "[24, 12, 20, 56, 34, 11]\n",
            "[20, 24, 12, 56, 11, 34]\n",
            "[12, 20, 24, 56, 34, 11]\n",
            "[12, 56, 11, 34, 24, 20]\n",
            "[34, 20, 11, 12, 24, 56]\n",
            "[34, 56, 24, 20, 11, 12]\n",
            "[11, 20, 56, 12, 34, 24]\n",
            "[20, 34, 12, 24, 56, 11]\n",
            "[11, 56, 24, 20, 12, 34]\n",
            "[24, 12, 56, 34, 11, 20]\n",
            "[24, 20, 56, 11, 34, 12]\n",
            "[20, 11, 34, 56, 12, 24]\n",
            "[56, 20, 11, 24, 12, 34]\n",
            "[11, 20, 24, 56, 12, 34]\n",
            "[34, 56, 24, 20, 12, 11]\n",
            "[20, 11, 56, 12, 34, 24]\n",
            "[20, 56, 11, 34, 12, 24]\n",
            "[24, 11, 12, 34, 56, 20]\n",
            "[56, 34, 12, 11, 24, 20]\n",
            "[12, 20, 24, 11, 34, 56]\n",
            "[20, 24, 56, 12, 34, 11]\n",
            "[11, 20, 56, 12, 24, 34]\n",
            "[34, 20, 24, 12, 11, 56]\n",
            "[34, 12, 11, 56, 24, 20]\n",
            "[34, 56, 12, 24, 20, 11]\n",
            "[20, 11, 12, 56, 24, 34]\n",
            "[56, 12, 11, 20, 24, 34]\n",
            "[20, 56, 11, 24, 12, 34]\n",
            "[56, 11, 34, 24, 20, 12]\n",
            "[24, 11, 20, 56, 12, 34]\n",
            "[11, 20, 12, 24, 34, 56]\n",
            "[11, 20, 34, 24, 56, 12]\n",
            "[34, 56, 20, 12, 11, 24]\n",
            "[20, 56, 11, 34, 24, 12]\n",
            "[24, 34, 20, 12, 11, 56]\n",
            "[11, 20, 56, 34, 24, 12]\n",
            "[12, 34, 11, 24, 56, 20]\n",
            "[56, 34, 11, 24, 12, 20]\n",
            "[24, 11, 20, 34, 12, 56]\n",
            "[56, 12, 24, 11, 20, 34]\n",
            "[34, 11, 12, 20, 56, 24]\n",
            "[34, 20, 56, 24, 12, 11]\n",
            "[24, 11, 56, 20, 12, 34]\n",
            "[34, 20, 11, 24, 56, 12]\n",
            "[12, 34, 11, 20, 56, 24]\n",
            "[24, 20, 12, 56, 11, 34]\n",
            "[11, 20, 24, 12, 34, 56]\n",
            "[34, 24, 56, 12, 20, 11]\n",
            "[24, 20, 34, 11, 12, 56]\n",
            "[11, 20, 34, 24, 56, 12]\n",
            "[56, 12, 34, 20, 24, 11]\n",
            "[12, 24, 11, 20, 34, 56]\n",
            "[56, 11, 34, 20, 12, 24]\n",
            "[24, 12, 11, 34, 56, 20]\n",
            "[12, 24, 20, 11, 34, 56]\n",
            "[56, 11, 20, 34, 12, 24]\n",
            "[56, 34, 20, 24, 11, 12]\n",
            "[34, 24, 11, 12, 56, 20]\n",
            "[12, 11, 20, 24, 34, 56]\n",
            "[11, 12, 20, 24, 34, 56]\n",
            "[11, 12, 20, 24, 34, 56]\n"
          ]
        }
      ]
    },
    {
      "cell_type": "code",
      "source": [
        "def bubble_sort(arr):\n",
        "\n",
        "  for i in range(len(arr) - 1):\n",
        "    flag = 0\n",
        "    for j in range(len(arr) - 1 - i):\n",
        "      if arr[j] > arr[j+1]:\n",
        "        arr[j],arr[j+1] = arr[j+1],arr[j]\n",
        "        flag =1\n",
        "\n",
        "    if flag == 0:\n",
        "      break\n",
        "\n",
        "  return arr\n",
        "\n"
      ],
      "metadata": {
        "id": "DeZj1MCTf1xg"
      },
      "execution_count": 13,
      "outputs": []
    },
    {
      "cell_type": "code",
      "source": [
        "arr = [23,12,34,11,100,56,78]\n",
        "bubble_sort(arr)"
      ],
      "metadata": {
        "colab": {
          "base_uri": "https://localhost:8080/"
        },
        "id": "l_CdNSwkf9No",
        "outputId": "41673031-a613-443f-b4e4-8395d79bbb78"
      },
      "execution_count": 14,
      "outputs": [
        {
          "output_type": "execute_result",
          "data": {
            "text/plain": [
              "[11, 12, 23, 34, 56, 78, 100]"
            ]
          },
          "metadata": {},
          "execution_count": 14
        }
      ]
    },
    {
      "cell_type": "code",
      "source": [
        "def selection_sort(arr):\n",
        "\n",
        "  for i in range(len(arr) - 1):\n",
        "\n",
        "    min = i\n",
        "\n",
        "    for j in range(i+1,len(arr)):\n",
        "      if arr[j] < arr[min]:\n",
        "        min = j\n",
        "\n",
        "    arr[i],arr[min] = arr[min],arr[i]\n",
        "\n",
        "  return arr"
      ],
      "metadata": {
        "id": "BRwHJ5v2gGc1"
      },
      "execution_count": 15,
      "outputs": []
    },
    {
      "cell_type": "code",
      "source": [
        "arr = [23,12,34,11,100,56,78]\n",
        "selection_sort(arr)\n",
        ""
      ],
      "metadata": {
        "colab": {
          "base_uri": "https://localhost:8080/"
        },
        "id": "LKPLViKHgKB0",
        "outputId": "7567af93-bbac-4b06-aeca-ac287f8d10fe"
      },
      "execution_count": 16,
      "outputs": [
        {
          "output_type": "execute_result",
          "data": {
            "text/plain": [
              "[11, 12, 23, 34, 56, 78, 100]"
            ]
          },
          "metadata": {},
          "execution_count": 16
        }
      ]
    },
    {
      "cell_type": "code",
      "source": [
        "L = []\n",
        "\n",
        "import random\n",
        "\n",
        "for i in range(10000):\n",
        "  L.append(random.randint(1,10000))"
      ],
      "metadata": {
        "id": "C2ysuMd4gM5i"
      },
      "execution_count": 17,
      "outputs": []
    },
    {
      "cell_type": "code",
      "source": [
        "len(L)"
      ],
      "metadata": {
        "colab": {
          "base_uri": "https://localhost:8080/"
        },
        "id": "gNjLHQMngSQd",
        "outputId": "e6d7ca72-a69c-430c-efec-c7d7e3d052a5"
      },
      "execution_count": 18,
      "outputs": [
        {
          "output_type": "execute_result",
          "data": {
            "text/plain": [
              "10000"
            ]
          },
          "metadata": {},
          "execution_count": 18
        }
      ]
    },
    {
      "cell_type": "code",
      "source": [
        "L1 = L[:]\n",
        "# cloning"
      ],
      "metadata": {
        "id": "eV3GWun0gWMo"
      },
      "execution_count": 19,
      "outputs": []
    },
    {
      "cell_type": "code",
      "source": [
        "import time\n",
        "\n",
        "start = time.time()\n",
        "bubble_sort(L)\n",
        "print(\"Time taken\",time.time() - start,\"secs\")\n",
        ""
      ],
      "metadata": {
        "colab": {
          "base_uri": "https://localhost:8080/"
        },
        "id": "LFd1z1m9gY8p",
        "outputId": "dd556c2b-e5f4-44ea-f4d1-f1d0422e803d"
      },
      "execution_count": 20,
      "outputs": [
        {
          "output_type": "stream",
          "name": "stdout",
          "text": [
            "Time taken 10.53231406211853 secs\n"
          ]
        }
      ]
    },
    {
      "cell_type": "code",
      "source": [
        "start = time.time()\n",
        "selection_sort(L1)\n",
        "print(\"Time taken\",time.time() - start,\"secs\")\n",
        "\n",
        "# Not Adaptive"
      ],
      "metadata": {
        "colab": {
          "base_uri": "https://localhost:8080/"
        },
        "id": "Qa7Gv8qwgciz",
        "outputId": "0324b2ea-ea20-4e5e-acb5-6b29c0c90138"
      },
      "execution_count": 21,
      "outputs": [
        {
          "output_type": "stream",
          "name": "stdout",
          "text": [
            "Time taken 4.0677268505096436 secs\n"
          ]
        }
      ]
    },
    {
      "cell_type": "code",
      "source": [
        "# Merge Sort\n",
        "\n",
        "\n",
        "def merge_arrays(arr1,arr2):\n",
        "\n",
        "  i = 0\n",
        "  j = 0\n",
        "\n",
        "  new_arr = []\n",
        "\n",
        "  while i < len(arr1) and j < len(arr2):\n",
        "    if arr1[i] < arr2[j]:\n",
        "      new_arr.append(arr1[i])\n",
        "      i += 1\n",
        "    else:\n",
        "      new_arr.append(arr2[j])\n",
        "      j += 1\n",
        "\n",
        "arr1 = [1,2,6,7,8]\n",
        "arr2 = [2,3,5]\n",
        "\n",
        "\n",
        "merge_arrays(arr1,arr2)"
      ],
      "metadata": {
        "id": "OCVcG52Pggjq"
      },
      "execution_count": 23,
      "outputs": []
    },
    {
      "cell_type": "code",
      "source": [
        "def merge_sort(arr):\n",
        "\n",
        "  mid = len(arr)//2\n",
        "\n",
        "  left = arr[:mid]\n",
        "  right = arr[mid:]\n",
        "\n",
        "  if len(left) == 1 and len(right) == 1:\n",
        "    return merge_arrays(left,right)\n",
        "  else:\n",
        "    merge_sort(left)\n",
        "    merge_sort(right)"
      ],
      "metadata": {
        "id": "6RkEWxdJgldf"
      },
      "execution_count": 24,
      "outputs": []
    },
    {
      "cell_type": "code",
      "source": [
        "[2,5,1,6,4,7,9,0]\n",
        "left = [2,5,1,6]\n",
        "right = [4,7,9,0]\n",
        "\n",
        "merge sort on left\n",
        "left1 = [2,5]\n",
        "right1 = [1,6]\n",
        "\n",
        "merge on left1\n",
        "left2 = [2]\n",
        "right2 = [5]"
      ],
      "metadata": {
        "id": "ZirYjmcOg9nh"
      },
      "execution_count": null,
      "outputs": []
    },
    {
      "cell_type": "code",
      "source": [
        "def quick_sort(arr):\n",
        "\n",
        "  if len(arr) <= 1:\n",
        "    return arr\n",
        "\n",
        "  pivot = arr.pop()\n",
        "\n",
        "  items_left = []\n",
        "  items_right = []\n",
        "\n",
        "  for item in arr:\n",
        "    if item < pivot:\n",
        "      items_left.append(item)\n",
        "    else:\n",
        "      items_right.append(item)\n",
        "\n",
        "  return quick_sort(items_left) + [pivot] + quick_sort(items_right)\n",
        "\n",
        "\n",
        "\n",
        "\n",
        "\n",
        "arr = [2,1,4,6,3,7,5]\n",
        "quick_sort(arr)"
      ],
      "metadata": {
        "colab": {
          "base_uri": "https://localhost:8080/"
        },
        "id": "lQkucqRihCrm",
        "outputId": "8153179a-7779-452b-f64a-98bff439340e"
      },
      "execution_count": 27,
      "outputs": [
        {
          "output_type": "execute_result",
          "data": {
            "text/plain": [
              "[1, 2, 3, 4, 5, 6, 7]"
            ]
          },
          "metadata": {},
          "execution_count": 27
        }
      ]
    },
    {
      "cell_type": "code",
      "source": [
        "def quick_sort(arr,low,high):\n",
        "\n",
        "  if len(arr) == 1:\n",
        "    return arr\n",
        "\n",
        "  if low < high:\n",
        "\n",
        "    pi = partition(arr,low,high)\n",
        "\n",
        "    quick_sort(arr,low,pi-1)\n",
        "    quick_sort(arr,pi+1,high)\n",
        "\n",
        "\n",
        "def partition(arr,low,high):\n",
        "\n",
        "  i = low - 1\n",
        "  pivot = arr[high]\n",
        "\n",
        "  for j in range(low,high):\n",
        "\n",
        "    if arr[j] <= pivot:\n",
        "      i+=1\n",
        "      arr[i],arr[j] = arr[j],arr[i]\n",
        "  arr[i+1],arr[high] = arr[high],arr[i+1]\n",
        "\n",
        "  return i+1\n",
        "\n",
        "\n",
        "arr = [10, 7, 8, 9, 1, 5]\n",
        "n = len(arr)\n",
        "quick_sort(arr, 0, n-1)\n",
        "print(arr)"
      ],
      "metadata": {
        "colab": {
          "base_uri": "https://localhost:8080/"
        },
        "id": "_IP4JLeRhPKv",
        "outputId": "5208c87f-aacc-4f1c-bddb-59348d34bc2d"
      },
      "execution_count": 28,
      "outputs": [
        {
          "output_type": "stream",
          "name": "stdout",
          "text": [
            "[1, 5, 7, 8, 9, 10]\n"
          ]
        }
      ]
    }
  ]
}