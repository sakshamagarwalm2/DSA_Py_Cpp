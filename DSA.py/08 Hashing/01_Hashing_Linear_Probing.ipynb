{
  "nbformat": 4,
  "nbformat_minor": 0,
  "metadata": {
    "colab": {
      "provenance": []
    },
    "kernelspec": {
      "name": "python3",
      "display_name": "Python 3"
    },
    "language_info": {
      "name": "python"
    }
  },
  "cells": [
    {
      "cell_type": "markdown",
      "source": [
        "#Hashing Linear-Probing\n",
        "\n",
        "isme do arr banayenge ek me key or uske oresponding index pe dusre arr me value.\n",
        "\n",
        "agar hash value vala index filled hai to vo age ki jhagah jo khali hogi vaha dal denge."
      ],
      "metadata": {
        "id": "thvUpCR9dHkl"
      }
    },
    {
      "cell_type": "code",
      "execution_count": 1,
      "metadata": {
        "id": "bLEGhLs9b-_A"
      },
      "outputs": [],
      "source": [
        "class Dictionary:\n",
        "\n",
        "  def __init__(self, size):\n",
        "    self.size = size\n",
        "    self.slots = [None] * self.size\n",
        "    self.data = [None] * self.size\n",
        "\n",
        "  def put(self, key, value):\n",
        "    hash_value = self.hash_function(key)\n",
        "\n",
        "    if self.slots[hash_value] == None:\n",
        "      self.slots[hash_value] = key\n",
        "      self.data[hash_value] = value\n",
        "\n",
        "    else:\n",
        "\n",
        "      if self.slots[hash_value] == key:\n",
        "        self.data[hash_value] = value\n",
        "      else:\n",
        "        new_hash_value = self.rehash(hash_value)\n",
        "\n",
        "        while self.slots[new_hash_value] != None and self.slots[new_hash_value] != key:\n",
        "          new_hash_value = self.rehash(new_hash_value)\n",
        "\n",
        "        if self.slots[new_hash_value] == None:\n",
        "          self.slots[new_hash_value] = key\n",
        "          self.data[new_hash_value] = value\n",
        "        else:\n",
        "          self.data[new_hash_value] = value\n",
        "\n",
        "  def get(self, key):\n",
        "    start_position = self.hash_function(key)\n",
        "    current_position = start_position\n",
        "\n",
        "    while self.slots[current_position] != None:\n",
        "\n",
        "      if self.slots[current_position] == key:\n",
        "        return self.data[current_position]\n",
        "\n",
        "      current_position = self.rehash(current_position)\n",
        "\n",
        "      if current_position == start_position:\n",
        "        return \"Not Found\"\n",
        "\n",
        "    return \"None wala Not Found\"\n",
        "\n",
        "  def __str__(self):\n",
        "\n",
        "    for i in range(len(self.slots)):\n",
        "      if self.slots[i] != None:\n",
        "        print(self.slots[i],\":\",self.data[i],end=' ')\n",
        "\n",
        "    return \"\"\n",
        "\n",
        "  def __getitem__(self,key):\n",
        "    return self.get(key)\n",
        "\n",
        "  def __setitem__(self,key,value):\n",
        "    self.put(key,value)\n",
        "\n",
        "  def rehash(self, old_hash):\n",
        "    return (old_hash + 1) % self.size\n",
        "\n",
        "\n",
        "  def hash_function(self, key):\n",
        "\n",
        "    return abs(hash(key)) % self.size"
      ]
    },
    {
      "cell_type": "code",
      "source": [
        "hash(123)"
      ],
      "metadata": {
        "colab": {
          "base_uri": "https://localhost:8080/"
        },
        "id": "FViNvJ9gcjyp",
        "outputId": "50055375-032a-40ee-e51a-70a850670bbf"
      },
      "execution_count": 2,
      "outputs": [
        {
          "output_type": "execute_result",
          "data": {
            "text/plain": [
              "123"
            ]
          },
          "metadata": {},
          "execution_count": 2
        }
      ]
    },
    {
      "cell_type": "code",
      "source": [
        "abs(hash(\"python\"))"
      ],
      "metadata": {
        "colab": {
          "base_uri": "https://localhost:8080/"
        },
        "id": "3TYtpj4Mcn45",
        "outputId": "381cb556-7d9e-4e9f-b685-cce18f78398e"
      },
      "execution_count": 3,
      "outputs": [
        {
          "output_type": "execute_result",
          "data": {
            "text/plain": [
              "4796915508760441456"
            ]
          },
          "metadata": {},
          "execution_count": 3
        }
      ]
    },
    {
      "cell_type": "code",
      "source": [
        "D1 = Dictionary(3)"
      ],
      "metadata": {
        "id": "_fm8cxircq5E"
      },
      "execution_count": 4,
      "outputs": []
    },
    {
      "cell_type": "code",
      "source": [
        "print(D1.slots)\n",
        "print(D1.data)"
      ],
      "metadata": {
        "colab": {
          "base_uri": "https://localhost:8080/"
        },
        "id": "g1gOV1F4cvpw",
        "outputId": "caa0cde7-945c-43cb-cc80-f05d653b9a9f"
      },
      "execution_count": 5,
      "outputs": [
        {
          "output_type": "stream",
          "name": "stdout",
          "text": [
            "[None, None, None]\n",
            "[None, None, None]\n"
          ]
        }
      ]
    },
    {
      "cell_type": "code",
      "source": [
        "D1['python'] = 56\n",
        "\n",
        "\n",
        "D1['c'] = 1000\n",
        "\n",
        "\n",
        "D1[\"dtjtr\"]"
      ],
      "metadata": {
        "colab": {
          "base_uri": "https://localhost:8080/",
          "height": 35
        },
        "id": "3cnVfzQxc1h7",
        "outputId": "f12c4210-4116-41a6-d8c7-1e561bf3caee"
      },
      "execution_count": 6,
      "outputs": [
        {
          "output_type": "execute_result",
          "data": {
            "text/plain": [
              "'None wala Not Found'"
            ],
            "application/vnd.google.colaboratory.intrinsic+json": {
              "type": "string"
            }
          },
          "metadata": {},
          "execution_count": 6
        }
      ]
    },
    {
      "cell_type": "code",
      "source": [
        "print(D1)\n",
        "\n"
      ],
      "metadata": {
        "colab": {
          "base_uri": "https://localhost:8080/"
        },
        "id": "_wilZBTOc7Cb",
        "outputId": "df9cd363-705f-4dce-d853-7c74baf197ef"
      },
      "execution_count": 7,
      "outputs": [
        {
          "output_type": "stream",
          "name": "stdout",
          "text": [
            "c : 1000 python : 56 \n"
          ]
        }
      ]
    }
  ]
}