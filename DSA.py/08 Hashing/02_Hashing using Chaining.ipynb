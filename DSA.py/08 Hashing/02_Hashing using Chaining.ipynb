{
  "nbformat": 4,
  "nbformat_minor": 0,
  "metadata": {
    "colab": {
      "provenance": []
    },
    "kernelspec": {
      "name": "python3",
      "display_name": "Python 3"
    },
    "language_info": {
      "name": "python"
    }
  },
  "cells": [
    {
      "cell_type": "markdown",
      "source": [
        "#Hashing using Chaining\n",
        "isme nodes hote nahi means ye LL ke use se banate hai."
      ],
      "metadata": {
        "id": "79Wcmmiqe0Je"
      }
    },
    {
      "cell_type": "code",
      "execution_count": 1,
      "metadata": {
        "id": "wCBcQ3l_d1rq"
      },
      "outputs": [],
      "source": [
        "class Node:\n",
        "\n",
        "  def __init__(self,key,value):\n",
        "    self.key = key\n",
        "    self.value = value\n",
        "    self.next = None\n",
        ""
      ]
    },
    {
      "cell_type": "code",
      "source": [
        "class LL:\n",
        "\n",
        "  def __init__(self):\n",
        "    self.head = None\n",
        "\n",
        "  def add(self, key, value):\n",
        "\n",
        "    new_node = Node(key, value)\n",
        "\n",
        "    if self.head == None:\n",
        "      self.head = new_node\n",
        "    else:\n",
        "\n",
        "      temp = self.head\n",
        "\n",
        "      while temp.next != None:\n",
        "        temp = temp.next\n",
        "\n",
        "      temp.next = new_node\n",
        "\n",
        "  def delete_head(self):\n",
        "\n",
        "    if self.head == None:\n",
        "      return \"Empty\"\n",
        "    else:\n",
        "      self.head = self.head.next\n",
        "\n",
        "  def remove(self, key):\n",
        "    if self.head.key == key:\n",
        "      self.delete_head()\n",
        "      return\n",
        "\n",
        "    if self.head == None:\n",
        "      return \"Empty\"\n",
        "    else:\n",
        "\n",
        "      temp = self.head\n",
        "\n",
        "      while temp.next != None:\n",
        "        if temp.next.key == key:\n",
        "          break\n",
        "        temp = temp.next\n",
        "\n",
        "      if temp.next == None:\n",
        "        return \"Not Found\"\n",
        "      else:\n",
        "        temp.next = temp.next.next\n",
        "\n",
        "\n",
        "  def traverse(self):\n",
        "\n",
        "    temp = self.head\n",
        "\n",
        "    while temp != None:\n",
        "\n",
        "      print(temp.key,\"-->\",temp.value,\" \", end=\" \")\n",
        "      temp = temp.next\n",
        "\n",
        "  def size(self):\n",
        "\n",
        "    temp = self.head\n",
        "    counter = 0\n",
        "\n",
        "    while temp != None:\n",
        "\n",
        "      counter += 1\n",
        "      temp = temp.next\n",
        "\n",
        "    return counter\n",
        "\n",
        "  def search(self,key):\n",
        "\n",
        "    temp = self.head\n",
        "    pos = 0\n",
        "\n",
        "    while temp != None:\n",
        "\n",
        "      if temp.key == key:\n",
        "        return pos\n",
        "\n",
        "      temp = temp.next\n",
        "      pos += 1\n",
        "\n",
        "    return -1\n",
        "\n",
        "  def get_node_at_index(self,index):\n",
        "\n",
        "    temp = self.head\n",
        "    counter = 0\n",
        "\n",
        "    while temp is not None:\n",
        "\n",
        "      if counter == index:\n",
        "        return temp\n",
        "      temp = temp.next\n",
        "      counter+=1"
      ],
      "metadata": {
        "id": "4npJC6vEd55b"
      },
      "execution_count": 3,
      "outputs": []
    },
    {
      "cell_type": "code",
      "source": [
        "class Dictionary:\n",
        "\n",
        "  def __init__(self, capacity):\n",
        "\n",
        "    self.capacity = capacity\n",
        "    self.size = 0\n",
        "    # create array of LL\n",
        "    self.buckets = self.make_array(self.capacity)\n",
        "\n",
        "  def make_array(self,capacity):\n",
        "\n",
        "    L = []\n",
        "    for i in range(capacity):\n",
        "      L.append(LL())\n",
        "    return L\n",
        "\n",
        "  def __setitem__(self,key,value):\n",
        "    self.put(key,value)\n",
        "\n",
        "  def __getitem__(self,key):\n",
        "    return self.get(key)\n",
        "\n",
        "  def __delitem__(self,key):\n",
        "\n",
        "    bucket_index = self.hash_function(key)\n",
        "\n",
        "    self.buckets[bucket_index].remove(key)\n",
        "\n",
        "  def __str__(self):\n",
        "\n",
        "    for i in self.buckets:\n",
        "      i.traverse()\n",
        "\n",
        "    return \"\"\n",
        "\n",
        "  def __len__(self):\n",
        "    return self.size\n",
        "\n",
        "\n",
        "  def get(self,key):\n",
        "\n",
        "    bucket_index = self.hash_function(key)\n",
        "\n",
        "    res = self.buckets[bucket_index].search(key)\n",
        "\n",
        "    if res == -1:\n",
        "      return \"Not Present\"\n",
        "    else:\n",
        "      node = self.buckets[bucket_index].get_node_at_index(res)\n",
        "      return node.value\n",
        "\n",
        "\n",
        "  def put(self, key, value):\n",
        "\n",
        "    bucket_index = self.hash_function(key)\n",
        "\n",
        "    node_index = self.get_node_index(bucket_index, key)\n",
        "\n",
        "    if node_index == -1:\n",
        "      # insert\n",
        "      self.buckets[bucket_index].add(key,value)\n",
        "      self.size+=1\n",
        "\n",
        "      load_factor = self.size/self.capacity\n",
        "      print(load_factor)\n",
        "\n",
        "      if (load_factor >= 2):\n",
        "        self.rehash()\n",
        "    else:\n",
        "      # update\n",
        "      node = self.buckets[bucket_index].get_node_at_index(node_index)\n",
        "      node.value = value\n",
        "\n",
        "  def rehash(self):\n",
        "    self.capacity = self.capacity * 2\n",
        "    old_buckets = self.buckets\n",
        "    self.size = 0\n",
        "    self.buckets = self.make_array(self.capacity)\n",
        "\n",
        "    for i in old_buckets:\n",
        "      for j in range(i.size()):\n",
        "        node = i.get_node_at_index(j)\n",
        "        key_item = node.key\n",
        "        value_item = node.value\n",
        "        self.put(key_item,value_item)\n",
        "\n",
        "\n",
        "\n",
        "  def get_node_index(self,bucket_index, key):\n",
        "\n",
        "    node_index = self.buckets[bucket_index].search(key)\n",
        "\n",
        "    return node_index\n",
        "\n",
        "  def hash_function(self,key):\n",
        "    return abs(hash(key)) % self.capacity"
      ],
      "metadata": {
        "id": "lLBjMsAEd95V"
      },
      "execution_count": 4,
      "outputs": []
    },
    {
      "cell_type": "code",
      "source": [
        "L = LL()\n",
        "\n",
        "\n",
        "L.add(2,3)\n",
        "\n",
        "\n",
        "L.add(4,5)\n",
        "\n",
        "\n",
        "L.add(6,7)\n",
        "\n",
        "\n",
        "L.traverse()"
      ],
      "metadata": {
        "colab": {
          "base_uri": "https://localhost:8080/"
        },
        "id": "86Io6DsPeG3F",
        "outputId": "bb96a77d-7a61-49fb-d3dd-99835d0c1520"
      },
      "execution_count": 6,
      "outputs": [
        {
          "output_type": "stream",
          "name": "stdout",
          "text": [
            "2 --> 3   4 --> 5   6 --> 7   "
          ]
        }
      ]
    },
    {
      "cell_type": "code",
      "source": [
        "L.get_node_at_index(0).key"
      ],
      "metadata": {
        "colab": {
          "base_uri": "https://localhost:8080/"
        },
        "id": "iPOunEkUeMyS",
        "outputId": "9891aa86-ec61-4878-cb5c-6358a42303b6"
      },
      "execution_count": 7,
      "outputs": [
        {
          "output_type": "execute_result",
          "data": {
            "text/plain": [
              "2"
            ]
          },
          "metadata": {},
          "execution_count": 7
        }
      ]
    },
    {
      "cell_type": "code",
      "source": [
        "D1 = Dictionary(3)\n",
        "\n",
        "\n",
        "D1.put(\"c\",20000)"
      ],
      "metadata": {
        "colab": {
          "base_uri": "https://localhost:8080/"
        },
        "id": "ugqxw99neXpM",
        "outputId": "9428a928-361c-4a75-fbd6-fa6fe8f352a5"
      },
      "execution_count": 8,
      "outputs": [
        {
          "output_type": "stream",
          "name": "stdout",
          "text": [
            "0.3333333333333333\n"
          ]
        }
      ]
    },
    {
      "cell_type": "code",
      "source": [
        "D1 = Dictionary(4)\n",
        "\n",
        "\n",
        "D1.put(\"php\",34)"
      ],
      "metadata": {
        "colab": {
          "base_uri": "https://localhost:8080/"
        },
        "id": "TI0duMa-eeLW",
        "outputId": "07726085-c919-4583-9feb-f2082be90f0b"
      },
      "execution_count": 10,
      "outputs": [
        {
          "output_type": "stream",
          "name": "stdout",
          "text": [
            "0.25\n"
          ]
        }
      ]
    },
    {
      "cell_type": "code",
      "source": [
        "D1[\"matlab\"] = 45"
      ],
      "metadata": {
        "colab": {
          "base_uri": "https://localhost:8080/"
        },
        "id": "44uVrFVieh_U",
        "outputId": "5d5a4b65-82a8-44b6-ac3c-307c57b7d552"
      },
      "execution_count": 11,
      "outputs": [
        {
          "output_type": "stream",
          "name": "stdout",
          "text": [
            "0.5\n"
          ]
        }
      ]
    },
    {
      "cell_type": "code",
      "source": [
        "\n",
        "print(D1)\n"
      ],
      "metadata": {
        "colab": {
          "base_uri": "https://localhost:8080/"
        },
        "id": "sw2Mritoer2f",
        "outputId": "b7c5a88f-9e81-4e76-8ace-c346baa14e7c"
      },
      "execution_count": 12,
      "outputs": [
        {
          "output_type": "stream",
          "name": "stdout",
          "text": [
            "php --> 34   matlab --> 45   \n"
          ]
        }
      ]
    },
    {
      "cell_type": "code",
      "source": [
        "len(D1)"
      ],
      "metadata": {
        "colab": {
          "base_uri": "https://localhost:8080/"
        },
        "id": "oMz1oyj3euu7",
        "outputId": "ddb4ec5d-a835-4d4c-9020-ed04c5be7132"
      },
      "execution_count": 13,
      "outputs": [
        {
          "output_type": "execute_result",
          "data": {
            "text/plain": [
              "2"
            ]
          },
          "metadata": {},
          "execution_count": 13
        }
      ]
    }
  ]
}